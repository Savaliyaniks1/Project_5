{
  "nbformat": 4,
  "nbformat_minor": 0,
  "metadata": {
    "colab": {
      "provenance": [],
      "authorship_tag": "ABX9TyMEveCwx+3lR6549WrgJD+S",
      "include_colab_link": true
    },
    "kernelspec": {
      "name": "python3",
      "display_name": "Python 3"
    },
    "language_info": {
      "name": "python"
    }
  },
  "cells": [
    {
      "cell_type": "markdown",
      "metadata": {
        "id": "view-in-github",
        "colab_type": "text"
      },
      "source": [
        "<a href=\"https://colab.research.google.com/github/Savaliyaniks1/Project_5/blob/main/Engagement_Analysis.ipynb\" target=\"_parent\"><img src=\"https://colab.research.google.com/assets/colab-badge.svg\" alt=\"Open In Colab\"/></a>"
      ]
    },
    {
      "cell_type": "markdown",
      "source": [
        "# ***2 - Engagement Analysis***"
      ],
      "metadata": {
        "id": "stuI4XCxAd5m"
      }
    },
    {
      "cell_type": "markdown",
      "source": [
        "# Importing Libraries"
      ],
      "metadata": {
        "id": "R-R6tRO_AaaW"
      }
    },
    {
      "cell_type": "code",
      "execution_count": null,
      "metadata": {
        "id": "9MO2mba8AMTi"
      },
      "outputs": [],
      "source": [
        "import pandas as pd\n",
        "import numpy as np\n",
        "import matplotlib.pyplot as plt\n",
        "import seaborn as sns\n",
        "%matplotlib inline\n",
        "import warnings\n",
        "warnings.filterwarnings('ignore')\n",
        "from sklearn.preprocessing import MinMaxScaler\n",
        "\n",
        "from sklearn.preprocessing import StandardScaler\n",
        "from sklearn.metrics import silhouette_score\n",
        "from sklearn.cluster import KMeans"
      ]
    },
    {
      "cell_type": "code",
      "source": [
        "data = pd.read_csv(r'/content/Overview Analysis.csv')"
      ],
      "metadata": {
        "id": "cFJi2WacAhI9"
      },
      "execution_count": null,
      "outputs": []
    },
    {
      "cell_type": "code",
      "source": [
        "data.head(2)"
      ],
      "metadata": {
        "colab": {
          "base_uri": "https://localhost:8080/",
          "height": 112
        },
        "id": "ddgqZVwDAwXD",
        "outputId": "88113ab1-193d-4c2b-ade4-772bd97ea627"
      },
      "execution_count": null,
      "outputs": [
        {
          "output_type": "execute_result",
          "data": {
            "text/plain": [
              "   MSISDN/Number     Handset Type  Total DL (Bytes)  Total UL (Bytes)  \\\n",
              "0   3.366447e+10  Huawei B593S-22       535118044.0        33691738.0   \n",
              "1   3.365875e+10     Huawei E5180       422406937.0        26026033.0   \n",
              "\n",
              "  Handset Manufacturer Application     Bearer Id  Dur. (ms)  \n",
              "0               Huawei       Email  1.311448e+19   104687.0  \n",
              "1               Huawei       Email  1.304243e+19   104687.0  "
            ],
            "text/html": [
              "\n",
              "  <div id=\"df-f96bcb8b-da75-47e1-8042-4f705afc75db\" class=\"colab-df-container\">\n",
              "    <div>\n",
              "<style scoped>\n",
              "    .dataframe tbody tr th:only-of-type {\n",
              "        vertical-align: middle;\n",
              "    }\n",
              "\n",
              "    .dataframe tbody tr th {\n",
              "        vertical-align: top;\n",
              "    }\n",
              "\n",
              "    .dataframe thead th {\n",
              "        text-align: right;\n",
              "    }\n",
              "</style>\n",
              "<table border=\"1\" class=\"dataframe\">\n",
              "  <thead>\n",
              "    <tr style=\"text-align: right;\">\n",
              "      <th></th>\n",
              "      <th>MSISDN/Number</th>\n",
              "      <th>Handset Type</th>\n",
              "      <th>Total DL (Bytes)</th>\n",
              "      <th>Total UL (Bytes)</th>\n",
              "      <th>Handset Manufacturer</th>\n",
              "      <th>Application</th>\n",
              "      <th>Bearer Id</th>\n",
              "      <th>Dur. (ms)</th>\n",
              "    </tr>\n",
              "  </thead>\n",
              "  <tbody>\n",
              "    <tr>\n",
              "      <th>0</th>\n",
              "      <td>3.366447e+10</td>\n",
              "      <td>Huawei B593S-22</td>\n",
              "      <td>535118044.0</td>\n",
              "      <td>33691738.0</td>\n",
              "      <td>Huawei</td>\n",
              "      <td>Email</td>\n",
              "      <td>1.311448e+19</td>\n",
              "      <td>104687.0</td>\n",
              "    </tr>\n",
              "    <tr>\n",
              "      <th>1</th>\n",
              "      <td>3.365875e+10</td>\n",
              "      <td>Huawei E5180</td>\n",
              "      <td>422406937.0</td>\n",
              "      <td>26026033.0</td>\n",
              "      <td>Huawei</td>\n",
              "      <td>Email</td>\n",
              "      <td>1.304243e+19</td>\n",
              "      <td>104687.0</td>\n",
              "    </tr>\n",
              "  </tbody>\n",
              "</table>\n",
              "</div>\n",
              "    <div class=\"colab-df-buttons\">\n",
              "\n",
              "  <div class=\"colab-df-container\">\n",
              "    <button class=\"colab-df-convert\" onclick=\"convertToInteractive('df-f96bcb8b-da75-47e1-8042-4f705afc75db')\"\n",
              "            title=\"Convert this dataframe to an interactive table.\"\n",
              "            style=\"display:none;\">\n",
              "\n",
              "  <svg xmlns=\"http://www.w3.org/2000/svg\" height=\"24px\" viewBox=\"0 -960 960 960\">\n",
              "    <path d=\"M120-120v-720h720v720H120Zm60-500h600v-160H180v160Zm220 220h160v-160H400v160Zm0 220h160v-160H400v160ZM180-400h160v-160H180v160Zm440 0h160v-160H620v160ZM180-180h160v-160H180v160Zm440 0h160v-160H620v160Z\"/>\n",
              "  </svg>\n",
              "    </button>\n",
              "\n",
              "  <style>\n",
              "    .colab-df-container {\n",
              "      display:flex;\n",
              "      gap: 12px;\n",
              "    }\n",
              "\n",
              "    .colab-df-convert {\n",
              "      background-color: #E8F0FE;\n",
              "      border: none;\n",
              "      border-radius: 50%;\n",
              "      cursor: pointer;\n",
              "      display: none;\n",
              "      fill: #1967D2;\n",
              "      height: 32px;\n",
              "      padding: 0 0 0 0;\n",
              "      width: 32px;\n",
              "    }\n",
              "\n",
              "    .colab-df-convert:hover {\n",
              "      background-color: #E2EBFA;\n",
              "      box-shadow: 0px 1px 2px rgba(60, 64, 67, 0.3), 0px 1px 3px 1px rgba(60, 64, 67, 0.15);\n",
              "      fill: #174EA6;\n",
              "    }\n",
              "\n",
              "    .colab-df-buttons div {\n",
              "      margin-bottom: 4px;\n",
              "    }\n",
              "\n",
              "    [theme=dark] .colab-df-convert {\n",
              "      background-color: #3B4455;\n",
              "      fill: #D2E3FC;\n",
              "    }\n",
              "\n",
              "    [theme=dark] .colab-df-convert:hover {\n",
              "      background-color: #434B5C;\n",
              "      box-shadow: 0px 1px 3px 1px rgba(0, 0, 0, 0.15);\n",
              "      filter: drop-shadow(0px 1px 2px rgba(0, 0, 0, 0.3));\n",
              "      fill: #FFFFFF;\n",
              "    }\n",
              "  </style>\n",
              "\n",
              "    <script>\n",
              "      const buttonEl =\n",
              "        document.querySelector('#df-f96bcb8b-da75-47e1-8042-4f705afc75db button.colab-df-convert');\n",
              "      buttonEl.style.display =\n",
              "        google.colab.kernel.accessAllowed ? 'block' : 'none';\n",
              "\n",
              "      async function convertToInteractive(key) {\n",
              "        const element = document.querySelector('#df-f96bcb8b-da75-47e1-8042-4f705afc75db');\n",
              "        const dataTable =\n",
              "          await google.colab.kernel.invokeFunction('convertToInteractive',\n",
              "                                                    [key], {});\n",
              "        if (!dataTable) return;\n",
              "\n",
              "        const docLinkHtml = 'Like what you see? Visit the ' +\n",
              "          '<a target=\"_blank\" href=https://colab.research.google.com/notebooks/data_table.ipynb>data table notebook</a>'\n",
              "          + ' to learn more about interactive tables.';\n",
              "        element.innerHTML = '';\n",
              "        dataTable['output_type'] = 'display_data';\n",
              "        await google.colab.output.renderOutput(dataTable, element);\n",
              "        const docLink = document.createElement('div');\n",
              "        docLink.innerHTML = docLinkHtml;\n",
              "        element.appendChild(docLink);\n",
              "      }\n",
              "    </script>\n",
              "  </div>\n",
              "\n",
              "\n",
              "<div id=\"df-9238229c-73fb-4440-81d0-c514d2ac50a4\">\n",
              "  <button class=\"colab-df-quickchart\" onclick=\"quickchart('df-9238229c-73fb-4440-81d0-c514d2ac50a4')\"\n",
              "            title=\"Suggest charts\"\n",
              "            style=\"display:none;\">\n",
              "\n",
              "<svg xmlns=\"http://www.w3.org/2000/svg\" height=\"24px\"viewBox=\"0 0 24 24\"\n",
              "     width=\"24px\">\n",
              "    <g>\n",
              "        <path d=\"M19 3H5c-1.1 0-2 .9-2 2v14c0 1.1.9 2 2 2h14c1.1 0 2-.9 2-2V5c0-1.1-.9-2-2-2zM9 17H7v-7h2v7zm4 0h-2V7h2v10zm4 0h-2v-4h2v4z\"/>\n",
              "    </g>\n",
              "</svg>\n",
              "  </button>\n",
              "\n",
              "<style>\n",
              "  .colab-df-quickchart {\n",
              "      --bg-color: #E8F0FE;\n",
              "      --fill-color: #1967D2;\n",
              "      --hover-bg-color: #E2EBFA;\n",
              "      --hover-fill-color: #174EA6;\n",
              "      --disabled-fill-color: #AAA;\n",
              "      --disabled-bg-color: #DDD;\n",
              "  }\n",
              "\n",
              "  [theme=dark] .colab-df-quickchart {\n",
              "      --bg-color: #3B4455;\n",
              "      --fill-color: #D2E3FC;\n",
              "      --hover-bg-color: #434B5C;\n",
              "      --hover-fill-color: #FFFFFF;\n",
              "      --disabled-bg-color: #3B4455;\n",
              "      --disabled-fill-color: #666;\n",
              "  }\n",
              "\n",
              "  .colab-df-quickchart {\n",
              "    background-color: var(--bg-color);\n",
              "    border: none;\n",
              "    border-radius: 50%;\n",
              "    cursor: pointer;\n",
              "    display: none;\n",
              "    fill: var(--fill-color);\n",
              "    height: 32px;\n",
              "    padding: 0;\n",
              "    width: 32px;\n",
              "  }\n",
              "\n",
              "  .colab-df-quickchart:hover {\n",
              "    background-color: var(--hover-bg-color);\n",
              "    box-shadow: 0 1px 2px rgba(60, 64, 67, 0.3), 0 1px 3px 1px rgba(60, 64, 67, 0.15);\n",
              "    fill: var(--button-hover-fill-color);\n",
              "  }\n",
              "\n",
              "  .colab-df-quickchart-complete:disabled,\n",
              "  .colab-df-quickchart-complete:disabled:hover {\n",
              "    background-color: var(--disabled-bg-color);\n",
              "    fill: var(--disabled-fill-color);\n",
              "    box-shadow: none;\n",
              "  }\n",
              "\n",
              "  .colab-df-spinner {\n",
              "    border: 2px solid var(--fill-color);\n",
              "    border-color: transparent;\n",
              "    border-bottom-color: var(--fill-color);\n",
              "    animation:\n",
              "      spin 1s steps(1) infinite;\n",
              "  }\n",
              "\n",
              "  @keyframes spin {\n",
              "    0% {\n",
              "      border-color: transparent;\n",
              "      border-bottom-color: var(--fill-color);\n",
              "      border-left-color: var(--fill-color);\n",
              "    }\n",
              "    20% {\n",
              "      border-color: transparent;\n",
              "      border-left-color: var(--fill-color);\n",
              "      border-top-color: var(--fill-color);\n",
              "    }\n",
              "    30% {\n",
              "      border-color: transparent;\n",
              "      border-left-color: var(--fill-color);\n",
              "      border-top-color: var(--fill-color);\n",
              "      border-right-color: var(--fill-color);\n",
              "    }\n",
              "    40% {\n",
              "      border-color: transparent;\n",
              "      border-right-color: var(--fill-color);\n",
              "      border-top-color: var(--fill-color);\n",
              "    }\n",
              "    60% {\n",
              "      border-color: transparent;\n",
              "      border-right-color: var(--fill-color);\n",
              "    }\n",
              "    80% {\n",
              "      border-color: transparent;\n",
              "      border-right-color: var(--fill-color);\n",
              "      border-bottom-color: var(--fill-color);\n",
              "    }\n",
              "    90% {\n",
              "      border-color: transparent;\n",
              "      border-bottom-color: var(--fill-color);\n",
              "    }\n",
              "  }\n",
              "</style>\n",
              "\n",
              "  <script>\n",
              "    async function quickchart(key) {\n",
              "      const quickchartButtonEl =\n",
              "        document.querySelector('#' + key + ' button');\n",
              "      quickchartButtonEl.disabled = true;  // To prevent multiple clicks.\n",
              "      quickchartButtonEl.classList.add('colab-df-spinner');\n",
              "      try {\n",
              "        const charts = await google.colab.kernel.invokeFunction(\n",
              "            'suggestCharts', [key], {});\n",
              "      } catch (error) {\n",
              "        console.error('Error during call to suggestCharts:', error);\n",
              "      }\n",
              "      quickchartButtonEl.classList.remove('colab-df-spinner');\n",
              "      quickchartButtonEl.classList.add('colab-df-quickchart-complete');\n",
              "    }\n",
              "    (() => {\n",
              "      let quickchartButtonEl =\n",
              "        document.querySelector('#df-9238229c-73fb-4440-81d0-c514d2ac50a4 button');\n",
              "      quickchartButtonEl.style.display =\n",
              "        google.colab.kernel.accessAllowed ? 'block' : 'none';\n",
              "    })();\n",
              "  </script>\n",
              "</div>\n",
              "\n",
              "    </div>\n",
              "  </div>\n"
            ],
            "application/vnd.google.colaboratory.intrinsic+json": {
              "type": "dataframe",
              "variable_name": "data",
              "summary": "{\n  \"name\": \"data\",\n  \"rows\": 17558,\n  \"fields\": [\n    {\n      \"column\": \"MSISDN/Number\",\n      \"properties\": {\n        \"dtype\": \"number\",\n        \"std\": 40590055.0018862,\n        \"min\": 33601008617.0,\n        \"max\": 33756895919.75,\n        \"num_unique_values\": 11291,\n        \"samples\": [\n          33668466734.0,\n          33698968173.0,\n          33695897926.0\n        ],\n        \"semantic_type\": \"\",\n        \"description\": \"\"\n      }\n    },\n    {\n      \"column\": \"Handset Type\",\n      \"properties\": {\n        \"dtype\": \"category\",\n        \"num_unique_values\": 347,\n        \"samples\": [\n          \"Apple iPhone Xs Max (A1921)\",\n          \"Apple iPhone 5S (A1453)\",\n          \"Samsung Galaxy Ace 2 (Gt-I8160)\"\n        ],\n        \"semantic_type\": \"\",\n        \"description\": \"\"\n      }\n    },\n    {\n      \"column\": \"Total DL (Bytes)\",\n      \"properties\": {\n        \"dtype\": \"number\",\n        \"std\": 245659006.49115783,\n        \"min\": 7114041.0,\n        \"max\": 899212554.0,\n        \"num_unique_values\": 17557,\n        \"samples\": [\n          240103206.0,\n          117317770.0,\n          684176428.0\n        ],\n        \"semantic_type\": \"\",\n        \"description\": \"\"\n      }\n    },\n    {\n      \"column\": \"Total UL (Bytes)\",\n      \"properties\": {\n        \"dtype\": \"number\",\n        \"std\": 11246203.340766588,\n        \"min\": 9627432.875,\n        \"max\": 72638051.875,\n        \"num_unique_values\": 17534,\n        \"samples\": [\n          38663939.0,\n          49989297.0,\n          36040924.0\n        ],\n        \"semantic_type\": \"\",\n        \"description\": \"\"\n      }\n    },\n    {\n      \"column\": \"Handset Manufacturer\",\n      \"properties\": {\n        \"dtype\": \"category\",\n        \"num_unique_values\": 46,\n        \"samples\": [\n          \"Bird\",\n          \"Tcl Communication Ltd\",\n          \"Spa Condor Electronics\"\n        ],\n        \"semantic_type\": \"\",\n        \"description\": \"\"\n      }\n    },\n    {\n      \"column\": \"Application\",\n      \"properties\": {\n        \"dtype\": \"category\",\n        \"num_unique_values\": 7,\n        \"samples\": [\n          \"Email\",\n          \"Others\",\n          \"Google\"\n        ],\n        \"semantic_type\": \"\",\n        \"description\": \"\"\n      }\n    },\n    {\n      \"column\": \"Bearer Id\",\n      \"properties\": {\n        \"dtype\": \"number\",\n        \"std\": 2.847730268765917e+18,\n        \"min\": 6.91753768262311e+18,\n        \"max\": 1.31865411605736e+19,\n        \"num_unique_values\": 16571,\n        \"samples\": [\n          7.277825667071e+18,\n          7.27782567157088e+18,\n          7.27782565673233e+18\n        ],\n        \"semantic_type\": \"\",\n        \"description\": \"\"\n      }\n    },\n    {\n      \"column\": \"Dur. (ms)\",\n      \"properties\": {\n        \"dtype\": \"number\",\n        \"std\": 14122.727470165644,\n        \"min\": 55919.0,\n        \"max\": 104687.0,\n        \"num_unique_values\": 2313,\n        \"samples\": [\n          83940.0,\n          87175.0,\n          77937.0\n        ],\n        \"semantic_type\": \"\",\n        \"description\": \"\"\n      }\n    }\n  ]\n}"
            }
          },
          "metadata": {},
          "execution_count": 21
        }
      ]
    },
    {
      "cell_type": "code",
      "source": [
        "# Calculate the correlation matrix, excluding non-numerical columns\n",
        "corr_matrix = data.select_dtypes(include=['number']).corr()\n",
        "\n",
        "# Plotting the heatmap\n",
        "plt.figure(figsize=(12, 8))\n",
        "sns.heatmap(corr_matrix, annot=True, cmap='coolwarm')\n",
        "plt.title('Correlation Matrix of Telecom Data')\n",
        "plt.show()\n"
      ],
      "metadata": {
        "colab": {
          "base_uri": "https://localhost:8080/",
          "height": 699
        },
        "id": "lfR6KfxMESDY",
        "outputId": "d052f1c7-240b-43e3-b3a3-d132bc6d419c"
      },
      "execution_count": null,
      "outputs": [
        {
          "output_type": "display_data",
          "data": {
            "text/plain": [
              "<Figure size 1200x800 with 2 Axes>"
            ],
            "image/png": "[encoded data removed]"
          },
          "metadata": {}
        }
      ]
    },
    {
      "cell_type": "code",
      "source": [
        "data = data.rename(columns={'Bearer Id': 'Sessions_Frequency'})\n"
      ],
      "metadata": {
        "id": "Imi0HDy-jS2N"
      },
      "execution_count": null,
      "outputs": []
    },
    {
      "cell_type": "code",
      "source": [
        "data.info()"
      ],
      "metadata": {
        "colab": {
          "base_uri": "https://localhost:8080/"
        },
        "id": "PIqz2DgpVY4L",
        "outputId": "d0998ade-ad00-46b4-ffdb-045b843ae7bf"
      },
      "execution_count": null,
      "outputs": [
        {
          "output_type": "stream",
          "name": "stdout",
          "text": [
            "<class 'pandas.core.frame.DataFrame'>\n",
            "RangeIndex: 17558 entries, 0 to 17557\n",
            "Data columns (total 8 columns):\n",
            " #   Column                Non-Null Count  Dtype  \n",
            "---  ------                --------------  -----  \n",
            " 0   MSISDN/Number         17558 non-null  float64\n",
            " 1   Handset Type          17558 non-null  object \n",
            " 2   Total DL (Bytes)      17558 non-null  float64\n",
            " 3   Total UL (Bytes)      17558 non-null  float64\n",
            " 4   Handset Manufacturer  17558 non-null  object \n",
            " 5   Application           17558 non-null  object \n",
            " 6   Sessions_Frequency    17558 non-null  float64\n",
            " 7   Dur. (ms)             17558 non-null  float64\n",
            "dtypes: float64(5), object(3)\n",
            "memory usage: 1.1+ MB\n"
          ]
        }
      ]
    },
    {
      "cell_type": "markdown",
      "source": [
        "# Find total session traffic"
      ],
      "metadata": {
        "id": "kTRCbvOJp_NR"
      }
    },
    {
      "cell_type": "code",
      "source": [
        "# find the session_total_traffic.\n",
        "\n",
        "data['session_total_traffic'] = data['Total DL (Bytes)'] + data['Total UL (Bytes)']"
      ],
      "metadata": {
        "id": "DdpVZCMpiqon"
      },
      "execution_count": null,
      "outputs": []
    },
    {
      "cell_type": "markdown",
      "source": [
        "# Calculate the engagement metrics"
      ],
      "metadata": {
        "id": "eHjrI-OZqE6G"
      }
    },
    {
      "cell_type": "code",
      "source": [
        "data['engagement_score'] = (data['Sessions_Frequency'] * data['Dur. (ms)'] * data['session_total_traffic']) / 1000000000  # Normalize the score\n",
        "\n",
        "# Display the updated DataFrame\n",
        "print(data[['Sessions_Frequency', 'Dur. (ms)', 'session_total_traffic', 'engagement_score']].head())\n"
      ],
      "metadata": {
        "id": "o2nIfREJER9B",
        "colab": {
          "base_uri": "https://localhost:8080/"
        },
        "outputId": "440cd53c-afe1-4c92-c20d-83925af935b3"
      },
      "execution_count": null,
      "outputs": [
        {
          "output_type": "stream",
          "name": "stdout",
          "text": [
            "   Sessions_Frequency  Dur. (ms)  session_total_traffic  engagement_score\n",
            "0        1.311448e+19   104687.0            568809782.0      7.809280e+23\n",
            "1        1.304243e+19   104687.0            448432970.0      6.122780e+23\n",
            "2        1.304243e+19   104687.0            143937207.0      1.965279e+23\n",
            "3        1.304243e+19   104687.0            226300149.0      3.089840e+23\n",
            "4        1.304243e+19   104687.0            552665938.0      7.545948e+23\n"
          ]
        }
      ]
    },
    {
      "cell_type": "markdown",
      "source": [
        "# Aggregate the above metrics per customer ID (MSISDN) and report the top 10 customers per engagement metric"
      ],
      "metadata": {
        "id": "iGYZKZzhqJuI"
      }
    },
    {
      "cell_type": "code",
      "source": [
        "# Aggregate metrics per customer ID\n",
        "customer_engagement = data.groupby('MSISDN/Number').agg({\n",
        "    'Sessions_Frequency': 'sum',\n",
        "    'Dur. (ms)': 'sum',\n",
        "    'session_total_traffic': 'sum',\n",
        "    'engagement_score': 'sum'\n",
        "})\n",
        "\n",
        "# Top 10 customers per engagement metric\n",
        "top_10_engagement = customer_engagement.sort_values(by='engagement_score', ascending=False).head(10)"
      ],
      "metadata": {
        "id": "FKXn8kGSER3a"
      },
      "execution_count": null,
      "outputs": []
    },
    {
      "cell_type": "code",
      "source": [
        "top_10_engagement.head()"
      ],
      "metadata": {
        "id": "f3TwLwYHER06",
        "colab": {
          "base_uri": "https://localhost:8080/",
          "height": 237
        },
        "outputId": "5eedcca5-be31-48f4-a2ee-b2b341cee31c"
      },
      "execution_count": null,
      "outputs": [
        {
          "output_type": "execute_result",
          "data": {
            "text/plain": [
              "               Sessions_Frequency    Dur. (ms)  session_total_traffic  \\\n",
              "MSISDN/Number                                                           \n",
              "3.375690e+10         3.314687e+22  248466892.0           1.514752e+12   \n",
              "3.365955e+10         9.129698e+19     696233.0           4.612115e+09   \n",
              "3.366258e+10         7.825456e+19     518397.0           3.727879e+09   \n",
              "3.366180e+10         7.825456e+19     518395.0           3.725833e+09   \n",
              "3.369925e+10         7.825456e+19     515573.0           3.752679e+09   \n",
              "\n",
              "               engagement_score  \n",
              "MSISDN/Number                    \n",
              "3.375690e+10       1.303018e+27  \n",
              "3.365955e+10       5.933945e+24  \n",
              "3.366258e+10       4.200799e+24  \n",
              "3.366180e+10       4.198471e+24  \n",
              "3.369925e+10       4.196761e+24  "
            ],
            "text/html": [
              "\n",
              "  <div id=\"df-1e7bb136-5d94-4293-9367-771c3206d335\" class=\"colab-df-container\">\n",
              "    <div>\n",
              "<style scoped>\n",
              "    .dataframe tbody tr th:only-of-type {\n",
              "        vertical-align: middle;\n",
              "    }\n",
              "\n",
              "    .dataframe tbody tr th {\n",
              "        vertical-align: top;\n",
              "    }\n",
              "\n",
              "    .dataframe thead th {\n",
              "        text-align: right;\n",
              "    }\n",
              "</style>\n",
              "<table border=\"1\" class=\"dataframe\">\n",
              "  <thead>\n",
              "    <tr style=\"text-align: right;\">\n",
              "      <th></th>\n",
              "      <th>Sessions_Frequency</th>\n",
              "      <th>Dur. (ms)</th>\n",
              "      <th>session_total_traffic</th>\n",
              "      <th>engagement_score</th>\n",
              "    </tr>\n",
              "    <tr>\n",
              "      <th>MSISDN/Number</th>\n",
              "      <th></th>\n",
              "      <th></th>\n",
              "      <th></th>\n",
              "      <th></th>\n",
              "    </tr>\n",
              "  </thead>\n",
              "  <tbody>\n",
              "    <tr>\n",
              "      <th>3.375690e+10</th>\n",
              "      <td>3.314687e+22</td>\n",
              "      <td>248466892.0</td>\n",
              "      <td>1.514752e+12</td>\n",
              "      <td>1.303018e+27</td>\n",
              "    </tr>\n",
              "    <tr>\n",
              "      <th>3.365955e+10</th>\n",
              "      <td>9.129698e+19</td>\n",
              "      <td>696233.0</td>\n",
              "      <td>4.612115e+09</td>\n",
              "      <td>5.933945e+24</td>\n",
              "    </tr>\n",
              "    <tr>\n",
              "      <th>3.366258e+10</th>\n",
              "      <td>7.825456e+19</td>\n",
              "      <td>518397.0</td>\n",
              "      <td>3.727879e+09</td>\n",
              "      <td>4.200799e+24</td>\n",
              "    </tr>\n",
              "    <tr>\n",
              "      <th>3.366180e+10</th>\n",
              "      <td>7.825456e+19</td>\n",
              "      <td>518395.0</td>\n",
              "      <td>3.725833e+09</td>\n",
              "      <td>4.198471e+24</td>\n",
              "    </tr>\n",
              "    <tr>\n",
              "      <th>3.369925e+10</th>\n",
              "      <td>7.825456e+19</td>\n",
              "      <td>515573.0</td>\n",
              "      <td>3.752679e+09</td>\n",
              "      <td>4.196761e+24</td>\n",
              "    </tr>\n",
              "  </tbody>\n",
              "</table>\n",
              "</div>\n",
              "    <div class=\"colab-df-buttons\">\n",
              "\n",
              "  <div class=\"colab-df-container\">\n",
              "    <button class=\"colab-df-convert\" onclick=\"convertToInteractive('df-1e7bb136-5d94-4293-9367-771c3206d335')\"\n",
              "            title=\"Convert this dataframe to an interactive table.\"\n",
              "            style=\"display:none;\">\n",
              "\n",
              "  <svg xmlns=\"http://www.w3.org/2000/svg\" height=\"24px\" viewBox=\"0 -960 960 960\">\n",
              "    <path d=\"M120-120v-720h720v720H120Zm60-500h600v-160H180v160Zm220 220h160v-160H400v160Zm0 220h160v-160H400v160ZM180-400h160v-160H180v160Zm440 0h160v-160H620v160ZM180-180h160v-160H180v160Zm440 0h160v-160H620v160Z\"/>\n",
              "  </svg>\n",
              "    </button>\n",
              "\n",
              "  <style>\n",
              "    .colab-df-container {\n",
              "      display:flex;\n",
              "      gap: 12px;\n",
              "    }\n",
              "\n",
              "    .colab-df-convert {\n",
              "      background-color: #E8F0FE;\n",
              "      border: none;\n",
              "      border-radius: 50%;\n",
              "      cursor: pointer;\n",
              "      display: none;\n",
              "      fill: #1967D2;\n",
              "      height: 32px;\n",
              "      padding: 0 0 0 0;\n",
              "      width: 32px;\n",
              "    }\n",
              "\n",
              "    .colab-df-convert:hover {\n",
              "      background-color: #E2EBFA;\n",
              "      box-shadow: 0px 1px 2px rgba(60, 64, 67, 0.3), 0px 1px 3px 1px rgba(60, 64, 67, 0.15);\n",
              "      fill: #174EA6;\n",
              "    }\n",
              "\n",
              "    .colab-df-buttons div {\n",
              "      margin-bottom: 4px;\n",
              "    }\n",
              "\n",
              "    [theme=dark] .colab-df-convert {\n",
              "      background-color: #3B4455;\n",
              "      fill: #D2E3FC;\n",
              "    }\n",
              "\n",
              "    [theme=dark] .colab-df-convert:hover {\n",
              "      background-color: #434B5C;\n",
              "      box-shadow: 0px 1px 3px 1px rgba(0, 0, 0, 0.15);\n",
              "      filter: drop-shadow(0px 1px 2px rgba(0, 0, 0, 0.3));\n",
              "      fill: #FFFFFF;\n",
              "    }\n",
              "  </style>\n",
              "\n",
              "    <script>\n",
              "      const buttonEl =\n",
              "        document.querySelector('#df-1e7bb136-5d94-4293-9367-771c3206d335 button.colab-df-convert');\n",
              "      buttonEl.style.display =\n",
              "        google.colab.kernel.accessAllowed ? 'block' : 'none';\n",
              "\n",
              "      async function convertToInteractive(key) {\n",
              "        const element = document.querySelector('#df-1e7bb136-5d94-4293-9367-771c3206d335');\n",
              "        const dataTable =\n",
              "          await google.colab.kernel.invokeFunction('convertToInteractive',\n",
              "                                                    [key], {});\n",
              "        if (!dataTable) return;\n",
              "\n",
              "        const docLinkHtml = 'Like what you see? Visit the ' +\n",
              "          '<a target=\"_blank\" href=https://colab.research.google.com/notebooks/data_table.ipynb>data table notebook</a>'\n",
              "          + ' to learn more about interactive tables.';\n",
              "        element.innerHTML = '';\n",
              "        dataTable['output_type'] = 'display_data';\n",
              "        await google.colab.output.renderOutput(dataTable, element);\n",
              "        const docLink = document.createElement('div');\n",
              "        docLink.innerHTML = docLinkHtml;\n",
              "        element.appendChild(docLink);\n",
              "      }\n",
              "    </script>\n",
              "  </div>\n",
              "\n",
              "\n",
              "<div id=\"df-be7ee94c-1e2e-4cc4-bce4-eabbed8738c3\">\n",
              "  <button class=\"colab-df-quickchart\" onclick=\"quickchart('df-be7ee94c-1e2e-4cc4-bce4-eabbed8738c3')\"\n",
              "            title=\"Suggest charts\"\n",
              "            style=\"display:none;\">\n",
              "\n",
              "<svg xmlns=\"http://www.w3.org/2000/svg\" height=\"24px\"viewBox=\"0 0 24 24\"\n",
              "     width=\"24px\">\n",
              "    <g>\n",
              "        <path d=\"M19 3H5c-1.1 0-2 .9-2 2v14c0 1.1.9 2 2 2h14c1.1 0 2-.9 2-2V5c0-1.1-.9-2-2-2zM9 17H7v-7h2v7zm4 0h-2V7h2v10zm4 0h-2v-4h2v4z\"/>\n",
              "    </g>\n",
              "</svg>\n",
              "  </button>\n",
              "\n",
              "<style>\n",
              "  .colab-df-quickchart {\n",
              "      --bg-color: #E8F0FE;\n",
              "      --fill-color: #1967D2;\n",
              "      --hover-bg-color: #E2EBFA;\n",
              "      --hover-fill-color: #174EA6;\n",
              "      --disabled-fill-color: #AAA;\n",
              "      --disabled-bg-color: #DDD;\n",
              "  }\n",
              "\n",
              "  [theme=dark] .colab-df-quickchart {\n",
              "      --bg-color: #3B4455;\n",
              "      --fill-color: #D2E3FC;\n",
              "      --hover-bg-color: #434B5C;\n",
              "      --hover-fill-color: #FFFFFF;\n",
              "      --disabled-bg-color: #3B4455;\n",
              "      --disabled-fill-color: #666;\n",
              "  }\n",
              "\n",
              "  .colab-df-quickchart {\n",
              "    background-color: var(--bg-color);\n",
              "    border: none;\n",
              "    border-radius: 50%;\n",
              "    cursor: pointer;\n",
              "    display: none;\n",
              "    fill: var(--fill-color);\n",
              "    height: 32px;\n",
              "    padding: 0;\n",
              "    width: 32px;\n",
              "  }\n",
              "\n",
              "  .colab-df-quickchart:hover {\n",
              "    background-color: var(--hover-bg-color);\n",
              "    box-shadow: 0 1px 2px rgba(60, 64, 67, 0.3), 0 1px 3px 1px rgba(60, 64, 67, 0.15);\n",
              "    fill: var(--button-hover-fill-color);\n",
              "  }\n",
              "\n",
              "  .colab-df-quickchart-complete:disabled,\n",
              "  .colab-df-quickchart-complete:disabled:hover {\n",
              "    background-color: var(--disabled-bg-color);\n",
              "    fill: var(--disabled-fill-color);\n",
              "    box-shadow: none;\n",
              "  }\n",
              "\n",
              "  .colab-df-spinner {\n",
              "    border: 2px solid var(--fill-color);\n",
              "    border-color: transparent;\n",
              "    border-bottom-color: var(--fill-color);\n",
              "    animation:\n",
              "      spin 1s steps(1) infinite;\n",
              "  }\n",
              "\n",
              "  @keyframes spin {\n",
              "    0% {\n",
              "      border-color: transparent;\n",
              "      border-bottom-color: var(--fill-color);\n",
              "      border-left-color: var(--fill-color);\n",
              "    }\n",
              "    20% {\n",
              "      border-color: transparent;\n",
              "      border-left-color: var(--fill-color);\n",
              "      border-top-color: var(--fill-color);\n",
              "    }\n",
              "    30% {\n",
              "      border-color: transparent;\n",
              "      border-left-color: var(--fill-color);\n",
              "      border-top-color: var(--fill-color);\n",
              "      border-right-color: var(--fill-color);\n",
              "    }\n",
              "    40% {\n",
              "      border-color: transparent;\n",
              "      border-right-color: var(--fill-color);\n",
              "      border-top-color: var(--fill-color);\n",
              "    }\n",
              "    60% {\n",
              "      border-color: transparent;\n",
              "      border-right-color: var(--fill-color);\n",
              "    }\n",
              "    80% {\n",
              "      border-color: transparent;\n",
              "      border-right-color: var(--fill-color);\n",
              "      border-bottom-color: var(--fill-color);\n",
              "    }\n",
              "    90% {\n",
              "      border-color: transparent;\n",
              "      border-bottom-color: var(--fill-color);\n",
              "    }\n",
              "  }\n",
              "</style>\n",
              "\n",
              "  <script>\n",
              "    async function quickchart(key) {\n",
              "      const quickchartButtonEl =\n",
              "        document.querySelector('#' + key + ' button');\n",
              "      quickchartButtonEl.disabled = true;  // To prevent multiple clicks.\n",
              "      quickchartButtonEl.classList.add('colab-df-spinner');\n",
              "      try {\n",
              "        const charts = await google.colab.kernel.invokeFunction(\n",
              "            'suggestCharts', [key], {});\n",
              "      } catch (error) {\n",
              "        console.error('Error during call to suggestCharts:', error);\n",
              "      }\n",
              "      quickchartButtonEl.classList.remove('colab-df-spinner');\n",
              "      quickchartButtonEl.classList.add('colab-df-quickchart-complete');\n",
              "    }\n",
              "    (() => {\n",
              "      let quickchartButtonEl =\n",
              "        document.querySelector('#df-be7ee94c-1e2e-4cc4-bce4-eabbed8738c3 button');\n",
              "      quickchartButtonEl.style.display =\n",
              "        google.colab.kernel.accessAllowed ? 'block' : 'none';\n",
              "    })();\n",
              "  </script>\n",
              "</div>\n",
              "\n",
              "    </div>\n",
              "  </div>\n"
            ],
            "application/vnd.google.colaboratory.intrinsic+json": {
              "type": "dataframe",
              "variable_name": "top_10_engagement",
              "summary": "{\n  \"name\": \"top_10_engagement\",\n  \"rows\": 10,\n  \"fields\": [\n    {\n      \"column\": \"MSISDN/Number\",\n      \"properties\": {\n        \"dtype\": \"number\",\n        \"std\": 32075629.334640894,\n        \"min\": 33650731215.0,\n        \"max\": 33756895919.75,\n        \"num_unique_values\": 10,\n        \"samples\": [\n          33669690902.0,\n          33659546392.0,\n          33650731215.0\n        ],\n        \"semantic_type\": \"\",\n        \"description\": \"\"\n      }\n    },\n    {\n      \"column\": \"Sessions_Frequency\",\n      \"properties\": {\n        \"dtype\": \"number\",\n        \"std\": 1.0458133189898348e+22,\n        \"min\": 6.521212982640701e+19,\n        \"max\": 3.3146867032320167e+22,\n        \"num_unique_values\": 10,\n        \"samples\": [\n          6.52121298500216e+19,\n          9.1296981798993e+19,\n          7.82545558058166e+19\n        ],\n        \"semantic_type\": \"\",\n        \"description\": \"\"\n      }\n    },\n    {\n      \"column\": \"Dur. (ms)\",\n      \"properties\": {\n        \"dtype\": \"number\",\n        \"std\": 78405487.79488713,\n        \"min\": 431996.0,\n        \"max\": 248466892.0,\n        \"num_unique_values\": 10,\n        \"samples\": [\n          431996.0,\n          696233.0,\n          513899.0\n        ],\n        \"semantic_type\": \"\",\n        \"description\": \"\"\n      }\n    },\n    {\n      \"column\": \"session_total_traffic\",\n      \"properties\": {\n        \"dtype\": \"number\",\n        \"std\": 477855835156.0794,\n        \"min\": 3011113374.0,\n        \"max\": 1514752212399.375,\n        \"num_unique_values\": 10,\n        \"samples\": [\n          3584549384.0,\n          4612114948.0,\n          3734279365.0\n        ],\n        \"semantic_type\": \"\",\n        \"description\": \"\"\n      }\n    },\n    {\n      \"column\": \"engagement_score\",\n      \"properties\": {\n        \"dtype\": \"number\",\n        \"std\": 4.10684098174331e+26,\n        \"min\": 3.99757933217041e+24,\n        \"max\": 1.3030177612864143e+27,\n        \"num_unique_values\": 10,\n        \"samples\": [\n          4.039270490129047e+24,\n          5.933944922928907e+24,\n          4.1624550396376995e+24\n        ],\n        \"semantic_type\": \"\",\n        \"description\": \"\"\n      }\n    }\n  ]\n}"
            }
          },
          "metadata": {},
          "execution_count": 9
        }
      ]
    },
    {
      "cell_type": "code",
      "source": [
        "# visualize the interpretation\n",
        "\n",
        "plt.figure(figsize=(6,4))\n",
        "sns.barplot(x=top_10_engagement.index, y='engagement_score', data=top_10_engagement.reset_index())\n",
        "plt.xlabel('Customer ID')\n",
        "plt.ylabel('Engagement Score')\n",
        "plt.title('Top 10 Customers by Engagement Score')\n",
        "plt.xticks(rotation=90)\n",
        "plt.show()"
      ],
      "metadata": {
        "id": "SrxQ3m7DERyj",
        "colab": {
          "base_uri": "https://localhost:8080/",
          "height": 515
        },
        "outputId": "22c825d6-1bf1-4f42-b3f2-e1c728ce8741"
      },
      "execution_count": null,
      "outputs": [
        {
          "output_type": "display_data",
          "data": {
            "text/plain": [
              "<Figure size 600x400 with 1 Axes>"
            ],
            "image/png": "[encoded data removed]"
          },
          "metadata": {}
        }
      ]
    },
    {
      "cell_type": "markdown",
      "source": [
        "# \tNormalize each engagement metric and run a k-means (k=3) to classify customers into three groups of engagement."
      ],
      "metadata": {
        "id": "Ez-cmfjxr4PZ"
      }
    },
    {
      "cell_type": "code",
      "source": [
        "# Select the features for clustering\n",
        "features = customer_engagement[['Sessions_Frequency', 'Dur. (ms)', 'session_total_traffic', 'engagement_score']]\n",
        "\n",
        "# Scale the data\n",
        "\n",
        "scaler = StandardScaler()\n",
        "scaled_features = scaler.fit_transform(features)\n",
        "\n",
        "\n",
        "# Assuming you found the optimal number of clusters\n",
        "kmeans = KMeans(n_clusters=3, random_state=42)\n",
        "customer_engagement['cluster_labels'] = kmeans.fit_predict(scaled_features)\n",
        "\n",
        "# Display the updated DataFrame with cluster labels\n",
        "print(customer_engagement.head())"
      ],
      "metadata": {
        "colab": {
          "base_uri": "https://localhost:8080/"
        },
        "id": "9GIusE1oqYGx",
        "outputId": "073242a1-eebd-4360-c225-7d11af53deaa"
      },
      "execution_count": null,
      "outputs": [
        {
          "output_type": "stream",
          "name": "stdout",
          "text": [
            "               Sessions_Frequency  Dur. (ms)  session_total_traffic  \\\n",
            "MSISDN/Number                                                         \n",
            "3.360101e+10         7.277826e+18    55919.0            871832580.0   \n",
            "3.360103e+10         7.277826e+18    55919.0            637053075.0   \n",
            "3.360105e+10         7.349883e+18    59569.0            445397764.0   \n",
            "3.360106e+10         7.277826e+18    55919.0            769716233.0   \n",
            "3.360108e+10         7.277826e+18    55919.0            458958083.0   \n",
            "\n",
            "               engagement_score  cluster_labels  \n",
            "MSISDN/Number                                    \n",
            "3.360101e+10       3.548086e+23               0  \n",
            "3.360103e+10       2.592607e+23               0  \n",
            "3.360105e+10       1.950064e+23               0  \n",
            "3.360106e+10       3.132504e+23               0  \n",
            "3.360108e+10       1.867816e+23               0  \n"
          ]
        }
      ]
    },
    {
      "cell_type": "markdown",
      "source": [
        "# Compute the minimum, maximum, average & total non-normalized metrics for each cluster."
      ],
      "metadata": {
        "id": "MCex2P0oqdSE"
      }
    },
    {
      "cell_type": "code",
      "source": [
        "# prompt: ●\tCompute the minimum, maximum, average & total non-normalized metrics for each cluster. Interpret your results visually with accompanying text explaining your findings.\n",
        "\n",
        "# Assuming 'cluster_labels' is a column in your DataFrame containing the cluster assignments\n",
        "# If not, you'll need to add the cluster labels to your DataFrame first.\n",
        "\n",
        "# Calculate the minimum, maximum, average, and total non-normalized metrics for each cluster\n",
        "cluster_stats = customer_engagement.groupby('cluster_labels').agg({\n",
        "    'Sessions_Frequency': ['min', 'max', 'mean', 'sum'],\n",
        "    'Dur. (ms)': ['min', 'max', 'mean', 'sum'],\n",
        "    'session_total_traffic': ['min', 'max', 'mean', 'sum']\n",
        "})\n",
        "\n",
        "# Display the results\n",
        "print(cluster_stats)"
      ],
      "metadata": {
        "id": "jfbmy9FVERvz",
        "colab": {
          "base_uri": "https://localhost:8080/"
        },
        "outputId": "cd13f40e-32f9-4781-8e4c-58b645ea3412"
      },
      "execution_count": null,
      "outputs": [
        {
          "output_type": "stream",
          "name": "stdout",
          "text": [
            "               Sessions_Frequency                                            \\\n",
            "                              min           max          mean           sum   \n",
            "cluster_labels                                                                \n",
            "0                    6.917538e+18  3.912728e+19  1.090256e+19  1.114460e+23   \n",
            "1                    3.314687e+22  3.314687e+22  3.314687e+22  3.314687e+22   \n",
            "2                    1.455565e+19  9.129698e+19  3.947259e+19  4.215672e+22   \n",
            "\n",
            "                  Dur. (ms)                                          \\\n",
            "                        min          max          mean          sum   \n",
            "cluster_labels                                                        \n",
            "0                   55919.0     259278.0  8.557038e+04  874700383.0   \n",
            "1               248466892.0  248466892.0  2.484669e+08  248466892.0   \n",
            "2                  111838.0     696233.0  2.680146e+05  286239571.0   \n",
            "\n",
            "               session_total_traffic                                            \n",
            "                                 min           max          mean           sum  \n",
            "cluster_labels                                                                  \n",
            "0                       3.802236e+07  1.752529e+09  5.310095e+08  5.427979e+12  \n",
            "1                       1.514752e+12  1.514752e+12  1.514752e+12  1.514752e+12  \n",
            "2                       5.807280e+08  4.612115e+09  1.650103e+09  1.762310e+12  \n"
          ]
        }
      ]
    },
    {
      "cell_type": "code",
      "source": [
        "# Visulize the result\n",
        "\n",
        "# for Sessions frequency\n",
        "\n",
        "plt.figure(figsize=(6,4))\n",
        "sns.barplot(x='cluster_labels', y='Sessions_Frequency', data=customer_engagement)  # Use 'cluster_labels' as a string to reference the column\n",
        "plt.xlabel('Cluster')\n",
        "plt.ylabel('Sessions Frequency')\n",
        "plt.title('Sessions Frequency by Cluster')\n",
        "plt.show()\n",
        "\n",
        "# for Duration\n",
        "\n",
        "plt.figure(figsize=(6,4))\n",
        "sns.barplot(x='cluster_labels', y='Dur. (ms)', data=customer_engagement)\n",
        "plt.xlabel('Cluster')\n",
        "plt.ylabel('Duration (ms)')\n",
        "plt.title('Duration by Cluster')\n",
        "plt.show()\n",
        "\n",
        "# for session total traffic\n",
        "\n",
        "plt.figure(figsize=(6,4))\n",
        "sns.barplot(x='cluster_labels', y='session_total_traffic', data=customer_engagement)\n",
        "plt.xlabel('Cluster')\n",
        "plt.ylabel('Total Traffic')\n",
        "plt.title('Total Traffic by Cluster')"
      ],
      "metadata": {
        "colab": {
          "base_uri": "https://localhost:8080/",
          "height": 1000
        },
        "id": "WDG-cpJumTnz",
        "outputId": "4babdac4-9288-4c53-c27b-79d49dc0c7b4"
      },
      "execution_count": null,
      "outputs": [
        {
          "output_type": "display_data",
          "data": {
            "text/plain": [
              "<Figure size 600x400 with 1 Axes>"
            ],
            "image/png": "[encoded data removed]"
          },
          "metadata": {}
        },
        {
          "output_type": "display_data",
          "data": {
            "text/plain": [
              "<Figure size 600x400 with 1 Axes>"
            ],
            "image/png": "[encoded data removed]"
          },
          "metadata": {}
        },
        {
          "output_type": "execute_result",
          "data": {
            "text/plain": [
              "Text(0.5, 1.0, 'Total Traffic by Cluster')"
            ]
          },
          "metadata": {},
          "execution_count": 13
        },
        {
          "output_type": "display_data",
          "data": {
            "text/plain": [
              "<Figure size 600x400 with 1 Axes>"
            ],
            "image/png": "[encoded data removed]"
          },
          "metadata": {}
        }
      ]
    },
    {
      "cell_type": "markdown",
      "source": [
        "# The top 3 most used applications"
      ],
      "metadata": {
        "id": "t3G9AVWpn6hM"
      }
    },
    {
      "cell_type": "code",
      "source": [
        "# Group by 'Application' and count occurrences\n",
        "\n",
        "top_apps = data['Application'].value_counts().nlargest(3)\n",
        "\n",
        "# Create a bar plot\n",
        "plt.figure(figsize=(6, 4))\n",
        "top_apps.plot(kind='bar')\n",
        "plt.xlabel('Applications')\n",
        "plt.ylabel('Number of Sessions')\n",
        "plt.title('Top 3 Most Used Applications')\n",
        "plt.show()\n"
      ],
      "metadata": {
        "id": "iGUDgyRXERqM",
        "colab": {
          "base_uri": "https://localhost:8080/",
          "height": 452
        },
        "outputId": "ac3daa8e-331f-49bc-806f-784427032666"
      },
      "execution_count": null,
      "outputs": [
        {
          "output_type": "display_data",
          "data": {
            "text/plain": [
              "<Figure size 600x400 with 1 Axes>"
            ],
            "image/png": "[encoded data removed]"
          },
          "metadata": {}
        }
      ]
    },
    {
      "cell_type": "markdown",
      "source": [
        "# Using the k-means clustering algorithm, group users in k engagement clusters based on the engagement metrics"
      ],
      "metadata": {
        "id": "whYbiprtoXC7"
      }
    },
    {
      "cell_type": "code",
      "source": [
        "# Determine the optimal number of clusters using the Elbow method\n",
        "\n",
        "inertia = []\n",
        "for i in range(2, 21):\n",
        "    kmeans = KMeans(n_clusters=i, random_state=42)\n",
        "    kmeans.fit(scaled_features)\n",
        "    inertia.append(kmeans.inertia_)"
      ],
      "metadata": {
        "id": "EnFBTsq-qoe-"
      },
      "execution_count": null,
      "outputs": []
    },
    {
      "cell_type": "code",
      "source": [
        "# Plot the Elbow method graph\n",
        "\n",
        "plt.plot(range(2, 21), inertia, marker='o')\n",
        "plt.title('Elbow Method for Optimal k')\n",
        "plt.xlabel('Number of Clusters (k)')\n",
        "plt.ylabel('Inertia')\n",
        "plt.xticks(range(2, 21))\n",
        "plt.grid(True)\n",
        "plt.show()\n"
      ],
      "metadata": {
        "colab": {
          "base_uri": "https://localhost:8080/",
          "height": 472
        },
        "id": "PPp_2m7KoeQg",
        "outputId": "a0859ea9-07e0-4341-ecad-e6145308675d"
      },
      "execution_count": null,
      "outputs": [
        {
          "output_type": "display_data",
          "data": {
            "text/plain": [
              "<Figure size 640x480 with 1 Axes>"
            ],
            "image/png": "[encoded data removed]"
          },
          "metadata": {}
        }
      ]
    },
    {
      "cell_type": "code",
      "source": [
        "data.head()"
      ],
      "metadata": {
        "colab": {
          "base_uri": "https://localhost:8080/",
          "height": 451
        },
        "id": "uj9JZpqqt8hB",
        "outputId": "d41d88ee-a6e6-42b8-d57d-b7e1cfb21779"
      },
      "execution_count": null,
      "outputs": [
        {
          "output_type": "execute_result",
          "data": {
            "text/plain": [
              "   MSISDN/Number                       Handset Type  Total DL (Bytes)  \\\n",
              "0   3.366447e+10                    Huawei B593S-22       535118044.0   \n",
              "1   3.365875e+10                       Huawei E5180       422406937.0   \n",
              "2   3.366274e+10           Samsung Galaxy A8 (2018)        93360974.0   \n",
              "3   3.366917e+10  Samsung Galaxy S9 Plus (Sm-G965F)       193656366.0   \n",
              "4   3.366555e+10                   Huawei B528S-23A       519351173.0   \n",
              "\n",
              "   Total UL (Bytes) Handset Manufacturer Application  Sessions_Frequency  \\\n",
              "0        33691738.0               Huawei       Email        1.311448e+19   \n",
              "1        26026033.0               Huawei       Email        1.304243e+19   \n",
              "2        50576233.0              Samsung      Others        1.304243e+19   \n",
              "3        32643783.0              Samsung     Netflix        1.304243e+19   \n",
              "4        33314765.0               Huawei      Gaming        1.304243e+19   \n",
              "\n",
              "   Dur. (ms)  session_total_traffic  engagement_score  \n",
              "0   104687.0            568809782.0      7.809280e+23  \n",
              "1   104687.0            448432970.0      6.122780e+23  \n",
              "2   104687.0            143937207.0      1.965279e+23  \n",
              "3   104687.0            226300149.0      3.089840e+23  \n",
              "4   104687.0            552665938.0      7.545948e+23  "
            ],
            "text/html": [
              "\n",
              "  <div id=\"df-196a7c33-9a33-4577-831b-79d8ba8c42cd\" class=\"colab-df-container\">\n",
              "    <div>\n",
              "<style scoped>\n",
              "    .dataframe tbody tr th:only-of-type {\n",
              "        vertical-align: middle;\n",
              "    }\n",
              "\n",
              "    .dataframe tbody tr th {\n",
              "        vertical-align: top;\n",
              "    }\n",
              "\n",
              "    .dataframe thead th {\n",
              "        text-align: right;\n",
              "    }\n",
              "</style>\n",
              "<table border=\"1\" class=\"dataframe\">\n",
              "  <thead>\n",
              "    <tr style=\"text-align: right;\">\n",
              "      <th></th>\n",
              "      <th>MSISDN/Number</th>\n",
              "      <th>Handset Type</th>\n",
              "      <th>Total DL (Bytes)</th>\n",
              "      <th>Total UL (Bytes)</th>\n",
              "      <th>Handset Manufacturer</th>\n",
              "      <th>Application</th>\n",
              "      <th>Sessions_Frequency</th>\n",
              "      <th>Dur. (ms)</th>\n",
              "      <th>session_total_traffic</th>\n",
              "      <th>engagement_score</th>\n",
              "    </tr>\n",
              "  </thead>\n",
              "  <tbody>\n",
              "    <tr>\n",
              "      <th>0</th>\n",
              "      <td>3.366447e+10</td>\n",
              "      <td>Huawei B593S-22</td>\n",
              "      <td>535118044.0</td>\n",
              "      <td>33691738.0</td>\n",
              "      <td>Huawei</td>\n",
              "      <td>Email</td>\n",
              "      <td>1.311448e+19</td>\n",
              "      <td>104687.0</td>\n",
              "      <td>568809782.0</td>\n",
              "      <td>7.809280e+23</td>\n",
              "    </tr>\n",
              "    <tr>\n",
              "      <th>1</th>\n",
              "      <td>3.365875e+10</td>\n",
              "      <td>Huawei E5180</td>\n",
              "      <td>422406937.0</td>\n",
              "      <td>26026033.0</td>\n",
              "      <td>Huawei</td>\n",
              "      <td>Email</td>\n",
              "      <td>1.304243e+19</td>\n",
              "      <td>104687.0</td>\n",
              "      <td>448432970.0</td>\n",
              "      <td>6.122780e+23</td>\n",
              "    </tr>\n",
              "    <tr>\n",
              "      <th>2</th>\n",
              "      <td>3.366274e+10</td>\n",
              "      <td>Samsung Galaxy A8 (2018)</td>\n",
              "      <td>93360974.0</td>\n",
              "      <td>50576233.0</td>\n",
              "      <td>Samsung</td>\n",
              "      <td>Others</td>\n",
              "      <td>1.304243e+19</td>\n",
              "      <td>104687.0</td>\n",
              "      <td>143937207.0</td>\n",
              "      <td>1.965279e+23</td>\n",
              "    </tr>\n",
              "    <tr>\n",
              "      <th>3</th>\n",
              "      <td>3.366917e+10</td>\n",
              "      <td>Samsung Galaxy S9 Plus (Sm-G965F)</td>\n",
              "      <td>193656366.0</td>\n",
              "      <td>32643783.0</td>\n",
              "      <td>Samsung</td>\n",
              "      <td>Netflix</td>\n",
              "      <td>1.304243e+19</td>\n",
              "      <td>104687.0</td>\n",
              "      <td>226300149.0</td>\n",
              "      <td>3.089840e+23</td>\n",
              "    </tr>\n",
              "    <tr>\n",
              "      <th>4</th>\n",
              "      <td>3.366555e+10</td>\n",
              "      <td>Huawei B528S-23A</td>\n",
              "      <td>519351173.0</td>\n",
              "      <td>33314765.0</td>\n",
              "      <td>Huawei</td>\n",
              "      <td>Gaming</td>\n",
              "      <td>1.304243e+19</td>\n",
              "      <td>104687.0</td>\n",
              "      <td>552665938.0</td>\n",
              "      <td>7.545948e+23</td>\n",
              "    </tr>\n",
              "  </tbody>\n",
              "</table>\n",
              "</div>\n",
              "    <div class=\"colab-df-buttons\">\n",
              "\n",
              "  <div class=\"colab-df-container\">\n",
              "    <button class=\"colab-df-convert\" onclick=\"convertToInteractive('df-196a7c33-9a33-4577-831b-79d8ba8c42cd')\"\n",
              "            title=\"Convert this dataframe to an interactive table.\"\n",
              "            style=\"display:none;\">\n",
              "\n",
              "  <svg xmlns=\"http://www.w3.org/2000/svg\" height=\"24px\" viewBox=\"0 -960 960 960\">\n",
              "    <path d=\"M120-120v-720h720v720H120Zm60-500h600v-160H180v160Zm220 220h160v-160H400v160Zm0 220h160v-160H400v160ZM180-400h160v-160H180v160Zm440 0h160v-160H620v160ZM180-180h160v-160H180v160Zm440 0h160v-160H620v160Z\"/>\n",
              "  </svg>\n",
              "    </button>\n",
              "\n",
              "  <style>\n",
              "    .colab-df-container {\n",
              "      display:flex;\n",
              "      gap: 12px;\n",
              "    }\n",
              "\n",
              "    .colab-df-convert {\n",
              "      background-color: #E8F0FE;\n",
              "      border: none;\n",
              "      border-radius: 50%;\n",
              "      cursor: pointer;\n",
              "      display: none;\n",
              "      fill: #1967D2;\n",
              "      height: 32px;\n",
              "      padding: 0 0 0 0;\n",
              "      width: 32px;\n",
              "    }\n",
              "\n",
              "    .colab-df-convert:hover {\n",
              "      background-color: #E2EBFA;\n",
              "      box-shadow: 0px 1px 2px rgba(60, 64, 67, 0.3), 0px 1px 3px 1px rgba(60, 64, 67, 0.15);\n",
              "      fill: #174EA6;\n",
              "    }\n",
              "\n",
              "    .colab-df-buttons div {\n",
              "      margin-bottom: 4px;\n",
              "    }\n",
              "\n",
              "    [theme=dark] .colab-df-convert {\n",
              "      background-color: #3B4455;\n",
              "      fill: #D2E3FC;\n",
              "    }\n",
              "\n",
              "    [theme=dark] .colab-df-convert:hover {\n",
              "      background-color: #434B5C;\n",
              "      box-shadow: 0px 1px 3px 1px rgba(0, 0, 0, 0.15);\n",
              "      filter: drop-shadow(0px 1px 2px rgba(0, 0, 0, 0.3));\n",
              "      fill: #FFFFFF;\n",
              "    }\n",
              "  </style>\n",
              "\n",
              "    <script>\n",
              "      const buttonEl =\n",
              "        document.querySelector('#df-196a7c33-9a33-4577-831b-79d8ba8c42cd button.colab-df-convert');\n",
              "      buttonEl.style.display =\n",
              "        google.colab.kernel.accessAllowed ? 'block' : 'none';\n",
              "\n",
              "      async function convertToInteractive(key) {\n",
              "        const element = document.querySelector('#df-196a7c33-9a33-4577-831b-79d8ba8c42cd');\n",
              "        const dataTable =\n",
              "          await google.colab.kernel.invokeFunction('convertToInteractive',\n",
              "                                                    [key], {});\n",
              "        if (!dataTable) return;\n",
              "\n",
              "        const docLinkHtml = 'Like what you see? Visit the ' +\n",
              "          '<a target=\"_blank\" href=https://colab.research.google.com/notebooks/data_table.ipynb>data table notebook</a>'\n",
              "          + ' to learn more about interactive tables.';\n",
              "        element.innerHTML = '';\n",
              "        dataTable['output_type'] = 'display_data';\n",
              "        await google.colab.output.renderOutput(dataTable, element);\n",
              "        const docLink = document.createElement('div');\n",
              "        docLink.innerHTML = docLinkHtml;\n",
              "        element.appendChild(docLink);\n",
              "      }\n",
              "    </script>\n",
              "  </div>\n",
              "\n",
              "\n",
              "<div id=\"df-48c41d10-81b0-4ccd-8127-80b13a0f7678\">\n",
              "  <button class=\"colab-df-quickchart\" onclick=\"quickchart('df-48c41d10-81b0-4ccd-8127-80b13a0f7678')\"\n",
              "            title=\"Suggest charts\"\n",
              "            style=\"display:none;\">\n",
              "\n",
              "<svg xmlns=\"http://www.w3.org/2000/svg\" height=\"24px\"viewBox=\"0 0 24 24\"\n",
              "     width=\"24px\">\n",
              "    <g>\n",
              "        <path d=\"M19 3H5c-1.1 0-2 .9-2 2v14c0 1.1.9 2 2 2h14c1.1 0 2-.9 2-2V5c0-1.1-.9-2-2-2zM9 17H7v-7h2v7zm4 0h-2V7h2v10zm4 0h-2v-4h2v4z\"/>\n",
              "    </g>\n",
              "</svg>\n",
              "  </button>\n",
              "\n",
              "<style>\n",
              "  .colab-df-quickchart {\n",
              "      --bg-color: #E8F0FE;\n",
              "      --fill-color: #1967D2;\n",
              "      --hover-bg-color: #E2EBFA;\n",
              "      --hover-fill-color: #174EA6;\n",
              "      --disabled-fill-color: #AAA;\n",
              "      --disabled-bg-color: #DDD;\n",
              "  }\n",
              "\n",
              "  [theme=dark] .colab-df-quickchart {\n",
              "      --bg-color: #3B4455;\n",
              "      --fill-color: #D2E3FC;\n",
              "      --hover-bg-color: #434B5C;\n",
              "      --hover-fill-color: #FFFFFF;\n",
              "      --disabled-bg-color: #3B4455;\n",
              "      --disabled-fill-color: #666;\n",
              "  }\n",
              "\n",
              "  .colab-df-quickchart {\n",
              "    background-color: var(--bg-color);\n",
              "    border: none;\n",
              "    border-radius: 50%;\n",
              "    cursor: pointer;\n",
              "    display: none;\n",
              "    fill: var(--fill-color);\n",
              "    height: 32px;\n",
              "    padding: 0;\n",
              "    width: 32px;\n",
              "  }\n",
              "\n",
              "  .colab-df-quickchart:hover {\n",
              "    background-color: var(--hover-bg-color);\n",
              "    box-shadow: 0 1px 2px rgba(60, 64, 67, 0.3), 0 1px 3px 1px rgba(60, 64, 67, 0.15);\n",
              "    fill: var(--button-hover-fill-color);\n",
              "  }\n",
              "\n",
              "  .colab-df-quickchart-complete:disabled,\n",
              "  .colab-df-quickchart-complete:disabled:hover {\n",
              "    background-color: var(--disabled-bg-color);\n",
              "    fill: var(--disabled-fill-color);\n",
              "    box-shadow: none;\n",
              "  }\n",
              "\n",
              "  .colab-df-spinner {\n",
              "    border: 2px solid var(--fill-color);\n",
              "    border-color: transparent;\n",
              "    border-bottom-color: var(--fill-color);\n",
              "    animation:\n",
              "      spin 1s steps(1) infinite;\n",
              "  }\n",
              "\n",
              "  @keyframes spin {\n",
              "    0% {\n",
              "      border-color: transparent;\n",
              "      border-bottom-color: var(--fill-color);\n",
              "      border-left-color: var(--fill-color);\n",
              "    }\n",
              "    20% {\n",
              "      border-color: transparent;\n",
              "      border-left-color: var(--fill-color);\n",
              "      border-top-color: var(--fill-color);\n",
              "    }\n",
              "    30% {\n",
              "      border-color: transparent;\n",
              "      border-left-color: var(--fill-color);\n",
              "      border-top-color: var(--fill-color);\n",
              "      border-right-color: var(--fill-color);\n",
              "    }\n",
              "    40% {\n",
              "      border-color: transparent;\n",
              "      border-right-color: var(--fill-color);\n",
              "      border-top-color: var(--fill-color);\n",
              "    }\n",
              "    60% {\n",
              "      border-color: transparent;\n",
              "      border-right-color: var(--fill-color);\n",
              "    }\n",
              "    80% {\n",
              "      border-color: transparent;\n",
              "      border-right-color: var(--fill-color);\n",
              "      border-bottom-color: var(--fill-color);\n",
              "    }\n",
              "    90% {\n",
              "      border-color: transparent;\n",
              "      border-bottom-color: var(--fill-color);\n",
              "    }\n",
              "  }\n",
              "</style>\n",
              "\n",
              "  <script>\n",
              "    async function quickchart(key) {\n",
              "      const quickchartButtonEl =\n",
              "        document.querySelector('#' + key + ' button');\n",
              "      quickchartButtonEl.disabled = true;  // To prevent multiple clicks.\n",
              "      quickchartButtonEl.classList.add('colab-df-spinner');\n",
              "      try {\n",
              "        const charts = await google.colab.kernel.invokeFunction(\n",
              "            'suggestCharts', [key], {});\n",
              "      } catch (error) {\n",
              "        console.error('Error during call to suggestCharts:', error);\n",
              "      }\n",
              "      quickchartButtonEl.classList.remove('colab-df-spinner');\n",
              "      quickchartButtonEl.classList.add('colab-df-quickchart-complete');\n",
              "    }\n",
              "    (() => {\n",
              "      let quickchartButtonEl =\n",
              "        document.querySelector('#df-48c41d10-81b0-4ccd-8127-80b13a0f7678 button');\n",
              "      quickchartButtonEl.style.display =\n",
              "        google.colab.kernel.accessAllowed ? 'block' : 'none';\n",
              "    })();\n",
              "  </script>\n",
              "</div>\n",
              "\n",
              "    </div>\n",
              "  </div>\n"
            ],
            "application/vnd.google.colaboratory.intrinsic+json": {
              "type": "dataframe",
              "variable_name": "data",
              "summary": "{\n  \"name\": \"data\",\n  \"rows\": 17558,\n  \"fields\": [\n    {\n      \"column\": \"MSISDN/Number\",\n      \"properties\": {\n        \"dtype\": \"number\",\n        \"std\": 40590055.0018862,\n        \"min\": 33601008617.0,\n        \"max\": 33756895919.75,\n        \"num_unique_values\": 11291,\n        \"samples\": [\n          33668466734.0,\n          33698968173.0,\n          33695897926.0\n        ],\n        \"semantic_type\": \"\",\n        \"description\": \"\"\n      }\n    },\n    {\n      \"column\": \"Handset Type\",\n      \"properties\": {\n        \"dtype\": \"category\",\n        \"num_unique_values\": 347,\n        \"samples\": [\n          \"Apple iPhone Xs Max (A1921)\",\n          \"Apple iPhone 5S (A1453)\",\n          \"Samsung Galaxy Ace 2 (Gt-I8160)\"\n        ],\n        \"semantic_type\": \"\",\n        \"description\": \"\"\n      }\n    },\n    {\n      \"column\": \"Total DL (Bytes)\",\n      \"properties\": {\n        \"dtype\": \"number\",\n        \"std\": 245659006.49115783,\n        \"min\": 7114041.0,\n        \"max\": 899212554.0,\n        \"num_unique_values\": 17557,\n        \"samples\": [\n          240103206.0,\n          117317770.0,\n          684176428.0\n        ],\n        \"semantic_type\": \"\",\n        \"description\": \"\"\n      }\n    },\n    {\n      \"column\": \"Total UL (Bytes)\",\n      \"properties\": {\n        \"dtype\": \"number\",\n        \"std\": 11246203.340766588,\n        \"min\": 9627432.875,\n        \"max\": 72638051.875,\n        \"num_unique_values\": 17534,\n        \"samples\": [\n          38663939.0,\n          49989297.0,\n          36040924.0\n        ],\n        \"semantic_type\": \"\",\n        \"description\": \"\"\n      }\n    },\n    {\n      \"column\": \"Handset Manufacturer\",\n      \"properties\": {\n        \"dtype\": \"category\",\n        \"num_unique_values\": 46,\n        \"samples\": [\n          \"Bird\",\n          \"Tcl Communication Ltd\",\n          \"Spa Condor Electronics\"\n        ],\n        \"semantic_type\": \"\",\n        \"description\": \"\"\n      }\n    },\n    {\n      \"column\": \"Application\",\n      \"properties\": {\n        \"dtype\": \"category\",\n        \"num_unique_values\": 7,\n        \"samples\": [\n          \"Email\",\n          \"Others\",\n          \"Google\"\n        ],\n        \"semantic_type\": \"\",\n        \"description\": \"\"\n      }\n    },\n    {\n      \"column\": \"Sessions_Frequency\",\n      \"properties\": {\n        \"dtype\": \"number\",\n        \"std\": 2.847730268765917e+18,\n        \"min\": 6.91753768262311e+18,\n        \"max\": 1.31865411605736e+19,\n        \"num_unique_values\": 16571,\n        \"samples\": [\n          7.277825667071e+18,\n          7.27782567157088e+18,\n          7.27782565673233e+18\n        ],\n        \"semantic_type\": \"\",\n        \"description\": \"\"\n      }\n    },\n    {\n      \"column\": \"Dur. (ms)\",\n      \"properties\": {\n        \"dtype\": \"number\",\n        \"std\": 14122.727470165644,\n        \"min\": 55919.0,\n        \"max\": 104687.0,\n        \"num_unique_values\": 2313,\n        \"samples\": [\n          83940.0,\n          87175.0,\n          77937.0\n        ],\n        \"semantic_type\": \"\",\n        \"description\": \"\"\n      }\n    },\n    {\n      \"column\": \"session_total_traffic\",\n      \"properties\": {\n        \"dtype\": \"number\",\n        \"std\": 245819282.37707138,\n        \"min\": 31093346.0,\n        \"max\": 952641334.0,\n        \"num_unique_values\": 17558,\n        \"samples\": [\n          696702592.0,\n          571499869.0,\n          451362684.0\n        ],\n        \"semantic_type\": \"\",\n        \"description\": \"\"\n      }\n    },\n    {\n      \"column\": \"engagement_score\",\n      \"properties\": {\n        \"dtype\": \"number\",\n        \"std\": 2.633611782321656e+23,\n        \"min\": 1.547391046815705e+22,\n        \"max\": 1.2837117218529579e+24,\n        \"num_unique_values\": 17558,\n        \"samples\": [\n          5.308133400766817e+23,\n          3.593573225005522e+23,\n          1.836904995607497e+23\n        ],\n        \"semantic_type\": \"\",\n        \"description\": \"\"\n      }\n    }\n  ]\n}"
            }
          },
          "metadata": {},
          "execution_count": 17
        }
      ]
    },
    {
      "cell_type": "code",
      "source": [
        "data.to_csv('Engagement_Analysis.csv', index=False)"
      ],
      "metadata": {
        "id": "beNQ2IgGInin"
      },
      "execution_count": null,
      "outputs": []
    }
  ]
}